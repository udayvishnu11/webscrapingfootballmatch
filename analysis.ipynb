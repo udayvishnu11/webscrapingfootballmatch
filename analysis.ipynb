{
 "cells": [
  {
   "cell_type": "code",
   "execution_count": 5,
   "metadata": {},
   "outputs": [
    {
     "name": "stdout",
     "output_type": "stream",
     "text": [
      "Files in the current folder (c:\\Users\\kadaliu\\Desktop\\python_assignment\\web scraping):\n",
      "analysis.ipynb\n",
      "parsed_page.html\n",
      "practice.py\n",
      "webscraping_prac.ipynb\n",
      "web_scraping_assignment.py\n"
     ]
    }
   ],
   "source": [
    "import os\n",
    "\n",
    "def print_filenames_in_current_folder():\n",
    "    current_folder = os.getcwd()\n",
    "    print(f\"Files in the current folder ({current_folder}):\")\n",
    "    \n",
    "    for filename in os.listdir(current_folder):\n",
    "        if os.path.isfile(os.path.join(current_folder, filename)):\n",
    "            print(filename)\n",
    "\n",
    "print_filenames_in_current_folder()\n"
   ]
  },
  {
   "cell_type": "code",
   "execution_count": 16,
   "metadata": {},
   "outputs": [
    {
     "data": {
      "text/plain": [
       "3"
      ]
     },
     "execution_count": 16,
     "metadata": {},
     "output_type": "execute_result"
    }
   ],
   "source": [
    "import math\n",
    "ar = [10, 20, 20, 10, 10, 30, 50, 10, 20]\n",
    "ar.sort()\n",
    "s = [[a,ar.count(a)] for a in ar]\n",
    "su = []\n",
    "for i in s:\n",
    "    if i not in su:\n",
    "        su.append(i)\n",
    "x = 0\n",
    "for i in su:\n",
    "    l = (i[1])/2\n",
    "    if l>=1:\n",
    "        suk = math.floor(l)\n",
    "        x+=suk\n",
    "x"
   ]
  }
 ],
 "metadata": {
  "kernelspec": {
   "display_name": "Python 3",
   "language": "python",
   "name": "python3"
  },
  "language_info": {
   "codemirror_mode": {
    "name": "ipython",
    "version": 3
   },
   "file_extension": ".py",
   "mimetype": "text/x-python",
   "name": "python",
   "nbconvert_exporter": "python",
   "pygments_lexer": "ipython3",
   "version": "3.11.6"
  }
 },
 "nbformat": 4,
 "nbformat_minor": 2
}
